{
 "cells": [
  {
   "cell_type": "markdown",
   "metadata": {},
   "source": [
    "# CheckIO Part_1 Home "
   ]
  },
  {
   "cell_type": "markdown",
   "metadata": {},
   "source": [
    "## Sum Numbers\n",
    "In a given text you need to sum the numbers. Only separated numbers should be counted. If a number is part of a word it shouldn't be counted.\n",
    "\n",
    "The text consists from numbers, spaces and english letters"
   ]
  },
  {
   "cell_type": "code",
   "execution_count": 1,
   "metadata": {},
   "outputs": [
    {
     "name": "stdout",
     "output_type": "stream",
     "text": [
      "0\n"
     ]
    }
   ],
   "source": [
    "def sum_numbers(text: str) -> int:\n",
    "    dig = [int(n) for n in text.split(' ') if n.isdigit()]\n",
    "    if dig == []:\n",
    "        out = 0\n",
    "    else:\n",
    "        out = sum(dig)\n",
    "    return out\n",
    "\n",
    "print(sum_numbers('hi'))"
   ]
  },
  {
   "cell_type": "markdown",
   "metadata": {},
   "source": [
    "## Even the Last\n",
    "You are given an array of integers. You should find the sum of the integers with even indexes (0th, 2nd, 4th...). Then multiply this summed number and the final element of the array together. Don't forget that the first element has an index of 0.\n",
    "\n",
    "For an empty array, the result will always be 0 (zero)."
   ]
  },
  {
   "cell_type": "code",
   "execution_count": 2,
   "metadata": {},
   "outputs": [
    {
     "name": "stdout",
     "output_type": "stream",
     "text": [
      "30\n"
     ]
    }
   ],
   "source": [
    "def checkio(array: list) -> int:\n",
    "    if len(array) >= 1:\n",
    "        out = []\n",
    "        for i in range(0, len(array), 2):\n",
    "            out.append(array[i])\n",
    "        out = sum(out) * array[-1]\n",
    "    else:\n",
    "        out = 0\n",
    "    return out\n",
    "\n",
    "print(checkio([0, 1, 2, 3, 4, 5]))"
   ]
  },
  {
   "cell_type": "markdown",
   "metadata": {},
   "source": [
    "## Three Words\n",
    "Let's teach the Robots to distinguish words and numbers.\n",
    "\n",
    "You are given a string with words and numbers separated by whitespaces (one space). The words contains only letters. You should check if the string contains three words in succession. For example, the string \"start 5 one two three 7 end\" contains three words in succession."
   ]
  },
  {
   "cell_type": "code",
   "execution_count": 3,
   "metadata": {},
   "outputs": [
    {
     "name": "stdout",
     "output_type": "stream",
     "text": [
      "True\n"
     ]
    }
   ],
   "source": [
    "def checkio(words: str) -> bool:\n",
    "    text_sep = words.split(' ')\n",
    "    count = 0\n",
    "    out = False\n",
    "    for i in text_sep:\n",
    "        if i.isdigit() == False:\n",
    "            count += 1\n",
    "            if count == 3:\n",
    "                out = True\n",
    "                break\n",
    "        else:\n",
    "            out = False\n",
    "            count = 0\n",
    "    return out\n",
    "\n",
    "print(checkio(\"Hello World hello\"))"
   ]
  },
  {
   "cell_type": "markdown",
   "metadata": {},
   "source": [
    "## Right to Left\n",
    "You are given a sequence of strings. You should join these strings into a chunk of text where the initial strings are separated by commas. As a joke on the right handed robots, you should replace all cases of the words \"right\" with the word \"left\", even if it's a part of another word. All strings are given in lowercase."
   ]
  },
  {
   "cell_type": "code",
   "execution_count": 4,
   "metadata": {},
   "outputs": [
    {
     "name": "stdout",
     "output_type": "stream",
     "text": [
      "left,left,left,stop\n"
     ]
    }
   ],
   "source": [
    "def left_join(phrases: tuple) -> str:\n",
    "    x = ''\n",
    "    for i in [n for n in phrases]:\n",
    "        if i.find('right') >= 0:\n",
    "            out = i.replace('right', 'left')\n",
    "            x += out + ','\n",
    "        else:\n",
    "            x += i + ','\n",
    "    x = x[:-1]\n",
    "    return x\n",
    "\n",
    "print(left_join((\"left\", \"right\", \"left\", \"stop\")))"
   ]
  },
  {
   "cell_type": "markdown",
   "metadata": {},
   "source": [
    "## First Word\n",
    "You are given a string where you have to find its first word.\n",
    "\n",
    "When solving a task pay attention to the following points:\n",
    "\n",
    "- There can be dots and commas in a string.\n",
    "- A string can start with a letter or, for example, a dot or space.\n",
    "- A word can contain an apostrophe and it's a part of a word.\n",
    "- The whole text can be represented with one word and that's it."
   ]
  },
  {
   "cell_type": "code",
   "execution_count": 5,
   "metadata": {},
   "outputs": [
    {
     "name": "stdout",
     "output_type": "stream",
     "text": [
      "Hello\n"
     ]
    }
   ],
   "source": [
    "def first_word(text: str) -> str:\n",
    "    def check(text):\n",
    "        txt_in_list = [n for n in text]\n",
    "        if (txt_in_list[0] == ' ') or (txt_in_list[0] == '.') or (txt_in_list[0] == ','):\n",
    "            txt_in_list[0] = ''\n",
    "            text = ''\n",
    "            for i in txt_in_list:\n",
    "                text = text + i\n",
    "            return check(text)\n",
    "        else:\n",
    "            return text\n",
    "    text = check(text)\n",
    "    x = 0\n",
    "    text_out = ''\n",
    "    while x < len(text) and [n for n in text][x] not in ('., '):\n",
    "        text_out += [n for n in text][x]\n",
    "        x += 1\n",
    "    return text_out\n",
    "\n",
    "print(first_word(\"Hello world\"))"
   ]
  },
  {
   "cell_type": "markdown",
   "metadata": {},
   "source": [
    "## Days Between\n",
    "ou are given two dates as an array with three numbers - a year, month and day. For example: 19 April 1982 will be (1982, 4, 19). You should find the difference in days between the given dates. For example between today and tomorrow = 1 day. The difference will always be either a positive number or zero, so don't forget about the absolute value."
   ]
  },
  {
   "cell_type": "code",
   "execution_count": 6,
   "metadata": {},
   "outputs": [
    {
     "name": "stdout",
     "output_type": "stream",
     "text": [
      "3\n"
     ]
    }
   ],
   "source": [
    "import datetime\n",
    "def days_diff(a, b):\n",
    "    a_y = int(a[0])\n",
    "    a_m = int(a[1])\n",
    "    a_d = int(a[2])\n",
    "    b_y = int(b[0])\n",
    "    b_m = int(b[1])\n",
    "    b_d = int(b[2])\n",
    "    a = datetime.date(a_y, a_m, a_d)\n",
    "    b = datetime.date(b_y, b_m, b_d)\n",
    "    delta = b - a\n",
    "    return abs(int(delta.days))\n",
    "\n",
    "print(days_diff((1982, 4, 19), (1982, 4, 22)))"
   ]
  },
  {
   "cell_type": "markdown",
   "metadata": {},
   "source": [
    "## Count Digits\n",
    "You need to count the number of digits in a given string."
   ]
  },
  {
   "cell_type": "code",
   "execution_count": 8,
   "metadata": {},
   "outputs": [
    {
     "name": "stdout",
     "output_type": "stream",
     "text": [
      "2\n"
     ]
    }
   ],
   "source": [
    "import re\n",
    "def count_digits(text: str) -> int:\n",
    "    # your code here\n",
    "    return len(re.findall(r'\\d', text))\n",
    "\n",
    "print(count_digits('hi78gg'))"
   ]
  },
  {
   "cell_type": "markdown",
   "metadata": {},
   "source": [
    "## Backward Each Word\n",
    "In a given string you should reverse every word, but the words should stay in their places."
   ]
  },
  {
   "cell_type": "code",
   "execution_count": 10,
   "metadata": {},
   "outputs": [
    {
     "name": "stdout",
     "output_type": "stream",
     "text": [
      "dlrow\n"
     ]
    }
   ],
   "source": [
    "def backward_string_by_word(text: str) -> str:\n",
    "    text = text.split(' ')\n",
    "    text_out = ''\n",
    "    for i in text:\n",
    "        text_out += i[::-1] + ' '\n",
    "    return text_out[:-1]\n",
    "\n",
    "print(backward_string_by_word('world'))"
   ]
  },
  {
   "cell_type": "markdown",
   "metadata": {},
   "source": [
    "## Bigger Price\n",
    "You have a table with all available goods in the store. The data is represented as a list of dicts\n",
    "\n",
    "Your mission here is to find the TOP most expensive goods. The amount we are looking for will be given as a first argument and the whole data as the second one"
   ]
  },
  {
   "cell_type": "code",
   "execution_count": 12,
   "metadata": {},
   "outputs": [
    {
     "name": "stdout",
     "output_type": "stream",
     "text": [
      "[{'name': 'wine', 'price': 138}, {'name': 'bread', 'price': 100}]\n"
     ]
    }
   ],
   "source": [
    "def bigger_price(limit: int, data: list) -> list:\n",
    "    data.sort(key = lambda x: x.get(\"price\"), reverse = True)\n",
    "    return data[:limit]\n",
    "\n",
    "print(bigger_price(2, [\n",
    "        {\"name\": \"bread\", \"price\": 100},\n",
    "        {\"name\": \"wine\", \"price\": 138},\n",
    "        {\"name\": \"meat\", \"price\": 15},\n",
    "        {\"name\": \"water\", \"price\": 1}\n",
    "    ]))"
   ]
  },
  {
   "cell_type": "markdown",
   "metadata": {},
   "source": [
    "## Between Markers\n",
    "You are given a string and two markers (the initial and final). You have to find a substring enclosed between these two markers. But there are a few important conditions:\n",
    "- The initial and final markers are always different.\n",
    "- If there is no initial marker, then the first character should be considered the beginning of a string.\n",
    "- If there is no final marker, then the last character should be considered the ending of a string.\n",
    "- If the initial and final markers are missing then simply return the whole string.\n",
    "- If the final marker comes before the initial marker, then return an empty string."
   ]
  },
  {
   "cell_type": "code",
   "execution_count": 13,
   "metadata": {},
   "outputs": [
    {
     "name": "stdout",
     "output_type": "stream",
     "text": [
      "apple\n"
     ]
    }
   ],
   "source": [
    "def between_markers(text: str, begin: str, end: str) -> str:\n",
    "    start = text.find(begin)\n",
    "    stop = text.find(end)\n",
    "    \n",
    "    if start > stop and stop != -1:\n",
    "        return ''\n",
    "    else:\n",
    "        if start == -1 and stop == -1:\n",
    "            return text\n",
    "            \n",
    "        elif start == -1:\n",
    "            return text[:stop]\n",
    "        elif stop == -1:\n",
    "            return text[(start + len(begin)):]\n",
    "        else:\n",
    "            return text[(start + len(begin)):stop]\n",
    "\n",
    "print(between_markers('What is >apple<', '>', '<'))"
   ]
  },
  {
   "cell_type": "markdown",
   "metadata": {},
   "source": [
    "## Non-unique Elements\n",
    "You are given a non-empty list of integers (X). For this task, you should return a list consisting of only the non-unique elements in this list. To do so you will need to remove all unique elements (elements which are contained in a given list only once). When solving this task, do not change the order of the list. Example: [1, 2, 3, 1, 3] 1 and 3 non-unique elements and result will be [1, 3, 1, 3]."
   ]
  },
  {
   "cell_type": "code",
   "execution_count": 14,
   "metadata": {},
   "outputs": [
    {
     "name": "stdout",
     "output_type": "stream",
     "text": [
      "[1, 3, 1, 3]\n"
     ]
    }
   ],
   "source": [
    "from collections import Counter\n",
    "def checkio(data: list) -> list:\n",
    "    x = [n for n in Counter(data) if Counter(data).get(n) == 1]\n",
    "    [data.pop(data.index(x[n])) for n in range(len(x))]\n",
    "    return data \n",
    "\n",
    "print(checkio([1, 2, 3, 1, 3]))"
   ]
  },
  {
   "cell_type": "markdown",
   "metadata": {},
   "source": [
    "## Popular Words\n",
    "In this mission your task is to determine the popularity of certain words in the text.\n",
    "\n",
    "At the input of your function are given 2 arguments: the text and the array of words the popularity of which you need to determine.\n",
    "\n",
    "When solving this task pay attention to the following points:\n",
    "\n",
    "- The words should be sought in all registers. This means that if you need to find a word \"one\" then words like \"one\", \"One\", \"oNe\", \"ONE\" etc. will do.\n",
    "- The search words are always indicated in the lowercase.\n",
    "- If the word wasn’t found even once, it has to be returned in the dictionary with 0 (zero) value."
   ]
  },
  {
   "cell_type": "code",
   "execution_count": 16,
   "metadata": {},
   "outputs": [
    {
     "name": "stdout",
     "output_type": "stream",
     "text": [
      "{'i': 4, 'was': 3, 'three': 0, 'near': 0}\n"
     ]
    }
   ],
   "source": [
    "import re\n",
    "from collections import Counter\n",
    "def popular_words(text: str, words: list) -> dict:\n",
    "    data = re.findall(r'\\w*\\S\\w*', text.lower())\n",
    "    x = Counter(n for n in data if n in words)\n",
    "    d = dict.fromkeys(words, 0)\n",
    "    d.update(x)\n",
    "    return d\n",
    "\n",
    "print(popular_words('''\n",
    "When I was One\n",
    "I had just begun\n",
    "When I was Two\n",
    "I was nearly new\n",
    "''', ['i', 'was', 'three', 'near']))"
   ]
  },
  {
   "cell_type": "markdown",
   "metadata": {},
   "source": [
    "## Second Index\n",
    "You are given two strings and you have to find an index of the second occurrence of the second string in the first one.\n",
    "\n",
    "Let's go through the first example where you need to find the second occurrence of \"s\" in a word \"sims\". It’s easy to find its first occurrence with a function index or find which will point out that \"s\" is the first symbol in a word \"sims\" and therefore the index of the first occurrence is 0. But we have to find the second \"s\" which is 4th in a row and that means that the index of the second occurrence (and the answer to a question) is 3."
   ]
  },
  {
   "cell_type": "code",
   "execution_count": 17,
   "metadata": {},
   "outputs": [
    {
     "name": "stdout",
     "output_type": "stream",
     "text": [
      "3\n"
     ]
    }
   ],
   "source": [
    "def second_index(text: str, symbol: str) -> [int, None]:\n",
    "    out = text.find(symbol, (text.find(symbol) + 1))\n",
    "    if out != -1:\n",
    "        return out\n",
    "    else: \n",
    "        return None \n",
    "\n",
    "print(second_index(\"sims\", \"s\"))"
   ]
  },
  {
   "cell_type": "markdown",
   "metadata": {},
   "source": [
    "## Sort Array by Element Frequency\n",
    "Sort the given iterable so that its elements end up in the decreasing frequency order, that is, the number of times they appear in elements. If two elements have the same frequency, they should end up in the same order as the first appearance in the iterable."
   ]
  },
  {
   "cell_type": "code",
   "execution_count": 18,
   "metadata": {},
   "outputs": [
    {
     "name": "stdout",
     "output_type": "stream",
     "text": [
      "[4, 4, 4, 4, 6, 6, 2, 2]\n"
     ]
    }
   ],
   "source": [
    "def frequency_sort(items):\n",
    "    # your code here\n",
    "    return sorted(items, key=lambda x: (-items.count(x), items.index(x)))\n",
    "\n",
    "print(frequency_sort([4, 6, 2, 2, 6, 4, 4, 4]))"
   ]
  },
  {
   "cell_type": "markdown",
   "metadata": {},
   "source": [
    "## Pawn Brotherhood\n",
    "Chess is a two-player strategy game played on a checkered game board laid out in eight rows (called ranks and denoted with numbers 1 to 8) and eight columns (called files and denoted with letters a to h) of squares. Each square of the chessboard is identified by a unique coordinate pair — a letter and a number (ex, \"a1\", \"h8\", \"d6\"). For this mission we only need to concern ourselves with pawns. A pawn may capture an opponent's piece on a square diagonally in front of it on an adjacent file, by moving to that square. For white pawns the front squares are squares with greater row number than the square they currently occupy.\n",
    "\n",
    "A pawn is generally a weak unit, but we have 8 of them which we can use to build a pawn defense wall. With this strategy, one pawn defends the others. A pawn is safe if another pawn can capture a unit on that square. We have several white pawns on the chess board and only white pawns. You should design your code to find how many pawns are safe."
   ]
  },
  {
   "cell_type": "code",
   "execution_count": 19,
   "metadata": {},
   "outputs": [
    {
     "name": "stdout",
     "output_type": "stream",
     "text": [
      "6\n"
     ]
    }
   ],
   "source": [
    "from math import sqrt \n",
    "def safe_pawns(pawns: set) -> int:\n",
    "    save = 0\n",
    "    d = {'a': 1, 'b': 2, 'c': 3, 'd': 4, 'e': 5, 'f': 6, 'g': 7, 'h': 8}\n",
    "    pawns_indexes = set()\n",
    "    for p in pawns:\n",
    "        col = int(p[1]) - 1\n",
    "        row = list(d.keys()).index(p[0])\n",
    "        pawns_indexes.add((row, col))\n",
    "    pawn_index = [n for n in pawns_indexes]\n",
    "    for i in pawn_index:\n",
    "        x = 0\n",
    "        for j in pawn_index:\n",
    "            if i[1] - 1 == j[1]:\n",
    "                len_diag = sqrt((i[0] - j[0])**2 + (i[1] - j[1])**2)\n",
    "                if len_diag == sqrt(2):\n",
    "                    x = 1\n",
    "        if x == 1:\n",
    "            save += 1\n",
    "    return save\n",
    "\n",
    "print(safe_pawns({\"b4\", \"d4\", \"f4\", \"c3\", \"e3\", \"g5\", \"d2\"}))"
   ]
  },
  {
   "cell_type": "markdown",
   "metadata": {},
   "source": [
    "## Sun Angle\n",
    "Every true traveler must know how to do 3 things: fix the fire, find the water and extract useful information from the nature around him. Programming won't help you with the fire and water, but when it comes to the information extraction - it might be just the thing you need.\n",
    "\n",
    "Your task is to find the angle of the sun above the horizon knowing the time of the day. Input data: the sun rises in the East at 6:00 AM, which corresponds to the angle of 0 degrees. At 12:00 PM the sun reaches its zenith, which means that the angle equals 90 degrees. 6:00 PM is the time of the sunset so the angle is 180 degrees. If the input will be the time of the night (before 6:00 AM or after 6:00 PM), your function should return - \"I don't see the sun!\"."
   ]
  },
  {
   "cell_type": "code",
   "execution_count": 20,
   "metadata": {},
   "outputs": [
    {
     "name": "stdout",
     "output_type": "stream",
     "text": [
      "15.0\n"
     ]
    }
   ],
   "source": [
    "def sun_angle(time):\n",
    "    eng_per_min = 180/(12*60)\n",
    "    start_time = 6 * 60\n",
    "    end_time = 18 * 60\n",
    "    time = int(time.split(':')[0]) * 60 + int(time.split(':')[1])\n",
    "    if time >= start_time and time <= end_time:\n",
    "        return eng_per_min * (time - start_time)\n",
    "    else:\n",
    "        return 'I don\\'t see the sun!'\n",
    "\n",
    "print(sun_angle(\"07:00\"))"
   ]
  },
  {
   "cell_type": "markdown",
   "metadata": {},
   "source": [
    "## Split List\n",
    "You have to split a given array into two arrays. If it has an odd amount of elements, then the first array should have more elements. If it has no elements, then two empty arrays should be returned."
   ]
  },
  {
   "cell_type": "code",
   "execution_count": 21,
   "metadata": {},
   "outputs": [
    {
     "name": "stdout",
     "output_type": "stream",
     "text": [
      "[[1, 2, 3], [4, 5, 6]]\n"
     ]
    }
   ],
   "source": [
    "def split_list(items: list) -> list:  \n",
    "    len_centr = int((len(items)+1)//2)\n",
    "    return [items[:len_centr], items[len_centr:]]\n",
    "\n",
    "print(split_list([1, 2, 3, 4, 5, 6]))"
   ]
  },
  {
   "cell_type": "markdown",
   "metadata": {},
   "source": [
    "## All the Same\n",
    "In this mission you should check if all elements in the given list are equal."
   ]
  },
  {
   "cell_type": "code",
   "execution_count": 22,
   "metadata": {},
   "outputs": [
    {
     "name": "stdout",
     "output_type": "stream",
     "text": [
      "True\n"
     ]
    }
   ],
   "source": [
    "from typing import List, Any\n",
    "\n",
    "def all_the_same(elements: List[Any]) -> bool:\n",
    "    # your code here\n",
    "    return all([elements[n] == elements[n-1] for n in range(int(len(elements)))])\n",
    "\n",
    "print(all_the_same([1, 1, 1]))"
   ]
  },
  {
   "cell_type": "markdown",
   "metadata": {},
   "source": [
    "## Date and Time Converter\n",
    "Computer date and time format consists only of numbers, for example: 21.05.2018 16:30\n",
    "Humans prefer to see something like this: 21 May 2018 year, 16 hours 30 minutes\n",
    "Your task is simple - convert the input date and time from computer format into a \"human\" format."
   ]
  },
  {
   "cell_type": "code",
   "execution_count": 23,
   "metadata": {},
   "outputs": [
    {
     "name": "stdout",
     "output_type": "stream",
     "text": [
      "1 January 2000 year 0 hours 0 minutes\n"
     ]
    }
   ],
   "source": [
    "from datetime import datetime\n",
    "import re\n",
    "def date_time(time: str) -> str:\n",
    "    data = re.findall(r'\\w+', time)\n",
    "    a = ['January', 'February', 'March', 'April', 'May', 'June', 'July', 'August', 'September', 'October', 'November', 'December']\n",
    "    if int(data[3]) in [1, 21, 31]:\n",
    "        time = 'hour'\n",
    "    else:\n",
    "        time = 'hours'\n",
    "    if int(data[4]) in [1, 21, 31, 41, 51]:\n",
    "        minutes = 'minute'\n",
    "    else:\n",
    "        minutes = 'minutes'\n",
    "    return (f'{int(data[0])} {a[int(data[1]) % 12 - 1]} {int(data[2])} year {int(data[3])} {time} {int(data[4])} {minutes}')\n",
    "\n",
    "print(date_time('01.01.2000 00:00'))"
   ]
  },
  {
   "cell_type": "markdown",
   "metadata": {},
   "source": [
    "## Morse Decoder\n",
    "Your task is to decrypt the secret message using the Morse code.\n",
    "The message will consist of words with 3 spaces between them and 1 space between each letter of each word.\n",
    "If the decrypted text starts with a letter then you'll have to print this letter in uppercase."
   ]
  },
  {
   "cell_type": "code",
   "execution_count": null,
   "metadata": {},
   "outputs": [],
   "source": [
    "MORSE = {'.-':    'a', '-...':  'b', '-.-.':  'c',\n",
    "         '-..':   'd', '.':     'e', '..-.':  'f',\n",
    "         '--.':   'g', '....':  'h', '..':    'i',\n",
    "         '.---':  'j', '-.-':   'k', '.-..':  'l',\n",
    "         '--':    'm', '-.':    'n', '---':   'o',\n",
    "         '.--.':  'p', '--.-':  'q', '.-.':   'r',\n",
    "         '...':   's', '-':     't', '..-':   'u',\n",
    "         '...-':  'v', '.--':   'w', '-..-':  'x',\n",
    "         '-.--':  'y', '--..':  'z', '-----': '0',\n",
    "         '.----': '1', '..---': '2', '...--': '3',\n",
    "         '....-': '4', '.....': '5', '-....': '6',\n",
    "         '--...': '7', '---..': '8', '----.': '9'\n",
    "        }\n",
    "#def morse_decoder(code):\n",
    "#    out = lambda code: ' '.join([''.join([MORSE.get(sym) for sym in wrd.split()]) for wrd in code.split('   ')]).capitalize()\n",
    "#    return out(code)\n",
    "def morse_decoder(code):\n",
    "    morse_w = code.split('   ')\n",
    "    morse_s = [n.split(' ') for n in morse_w]\n",
    "    out = str('')\n",
    "    for i in morse_s:\n",
    "        for j in i:\n",
    "            out += MORSE.get(j)\n",
    "        out += ' '\n",
    "    return out[:-1].capitalize()\n",
    "\n",
    "if __name__ == '__main__':\n",
    "    print(\"Example:\")\n",
    "    print(morse_decoder('... --- ...'))"
   ]
  }
 ],
 "metadata": {
  "kernelspec": {
   "display_name": "Python 3",
   "language": "python",
   "name": "python3"
  },
  "language_info": {
   "codemirror_mode": {
    "name": "ipython",
    "version": 3
   },
   "file_extension": ".py",
   "mimetype": "text/x-python",
   "name": "python",
   "nbconvert_exporter": "python",
   "pygments_lexer": "ipython3",
   "version": "3.7.6"
  }
 },
 "nbformat": 4,
 "nbformat_minor": 4
}
