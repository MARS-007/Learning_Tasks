{
 "cells": [
  {
   "cell_type": "markdown",
   "metadata": {},
   "source": [
    "# CheckIO Part_1 Home "
   ]
  },
  {
   "cell_type": "markdown",
   "metadata": {},
   "source": [
    "## Sum Numbers\n",
    "In a given text you need to sum the numbers. Only separated numbers should be counted. If a number is part of a word it shouldn't be counted.\n",
    "\n",
    "The text consists from numbers, spaces and english letters"
   ]
  },
  {
   "cell_type": "code",
   "execution_count": 1,
   "metadata": {},
   "outputs": [
    {
     "name": "stdout",
     "output_type": "stream",
     "text": [
      "0\n"
     ]
    }
   ],
   "source": [
    "def sum_numbers(text: str) -> int:\n",
    "    dig = [int(n) for n in text.split(' ') if n.isdigit()]\n",
    "    if dig == []:\n",
    "        out = 0\n",
    "    else:\n",
    "        out = sum(dig)\n",
    "    return out\n",
    "\n",
    "print(sum_numbers('hi'))"
   ]
  },
  {
   "cell_type": "markdown",
   "metadata": {},
   "source": [
    "## Even the Last\n",
    "You are given an array of integers. You should find the sum of the integers with even indexes (0th, 2nd, 4th...). Then multiply this summed number and the final element of the array together. Don't forget that the first element has an index of 0.\n",
    "\n",
    "For an empty array, the result will always be 0 (zero)."
   ]
  },
  {
   "cell_type": "code",
   "execution_count": 2,
   "metadata": {},
   "outputs": [
    {
     "name": "stdout",
     "output_type": "stream",
     "text": [
      "30\n"
     ]
    }
   ],
   "source": [
    "def checkio(array: list) -> int:\n",
    "    if len(array) >= 1:\n",
    "        out = []\n",
    "        for i in range(0, len(array), 2):\n",
    "            out.append(array[i])\n",
    "        out = sum(out) * array[-1]\n",
    "    else:\n",
    "        out = 0\n",
    "    return out\n",
    "\n",
    "print(checkio([0, 1, 2, 3, 4, 5]))"
   ]
  },
  {
   "cell_type": "markdown",
   "metadata": {},
   "source": [
    "## Three Words\n",
    "Let's teach the Robots to distinguish words and numbers.\n",
    "\n",
    "You are given a string with words and numbers separated by whitespaces (one space). The words contains only letters. You should check if the string contains three words in succession. For example, the string \"start 5 one two three 7 end\" contains three words in succession."
   ]
  },
  {
   "cell_type": "code",
   "execution_count": 3,
   "metadata": {},
   "outputs": [
    {
     "name": "stdout",
     "output_type": "stream",
     "text": [
      "True\n"
     ]
    }
   ],
   "source": [
    "def checkio(words: str) -> bool:\n",
    "    text_sep = words.split(' ')\n",
    "    count = 0\n",
    "    out = False\n",
    "    for i in text_sep:\n",
    "        if i.isdigit() == False:\n",
    "            count += 1\n",
    "            if count == 3:\n",
    "                out = True\n",
    "                break\n",
    "        else:\n",
    "            out = False\n",
    "            count = 0\n",
    "    return out\n",
    "\n",
    "print(checkio(\"Hello World hello\"))"
   ]
  },
  {
   "cell_type": "markdown",
   "metadata": {},
   "source": [
    "## Right to Left\n",
    "You are given a sequence of strings. You should join these strings into a chunk of text where the initial strings are separated by commas. As a joke on the right handed robots, you should replace all cases of the words \"right\" with the word \"left\", even if it's a part of another word. All strings are given in lowercase."
   ]
  },
  {
   "cell_type": "code",
   "execution_count": 4,
   "metadata": {},
   "outputs": [
    {
     "name": "stdout",
     "output_type": "stream",
     "text": [
      "left,left,left,stop\n"
     ]
    }
   ],
   "source": [
    "def left_join(phrases: tuple) -> str:\n",
    "    x = ''\n",
    "    for i in [n for n in phrases]:\n",
    "        if i.find('right') >= 0:\n",
    "            out = i.replace('right', 'left')\n",
    "            x += out + ','\n",
    "        else:\n",
    "            x += i + ','\n",
    "    x = x[:-1]\n",
    "    return x\n",
    "\n",
    "print(left_join((\"left\", \"right\", \"left\", \"stop\")))"
   ]
  },
  {
   "cell_type": "markdown",
   "metadata": {},
   "source": [
    "## First Word\n",
    "You are given a string where you have to find its first word.\n",
    "\n",
    "When solving a task pay attention to the following points:\n",
    "\n",
    "- There can be dots and commas in a string.\n",
    "- A string can start with a letter or, for example, a dot or space.\n",
    "- A word can contain an apostrophe and it's a part of a word.\n",
    "- The whole text can be represented with one word and that's it."
   ]
  },
  {
   "cell_type": "code",
   "execution_count": 5,
   "metadata": {},
   "outputs": [
    {
     "name": "stdout",
     "output_type": "stream",
     "text": [
      "Hello\n"
     ]
    }
   ],
   "source": [
    "def first_word(text: str) -> str:\n",
    "    def check(text):\n",
    "        txt_in_list = [n for n in text]\n",
    "        if (txt_in_list[0] == ' ') or (txt_in_list[0] == '.') or (txt_in_list[0] == ','):\n",
    "            txt_in_list[0] = ''\n",
    "            text = ''\n",
    "            for i in txt_in_list:\n",
    "                text = text + i\n",
    "            return check(text)\n",
    "        else:\n",
    "            return text\n",
    "    text = check(text)\n",
    "    x = 0\n",
    "    text_out = ''\n",
    "    while x < len(text) and [n for n in text][x] not in ('., '):\n",
    "        text_out += [n for n in text][x]\n",
    "        x += 1\n",
    "    return text_out\n",
    "\n",
    "print(first_word(\"Hello world\"))"
   ]
  },
  {
   "cell_type": "code",
   "execution_count": null,
   "metadata": {},
   "outputs": [],
   "source": []
  }
 ],
 "metadata": {
  "kernelspec": {
   "display_name": "Python 3",
   "language": "python",
   "name": "python3"
  },
  "language_info": {
   "codemirror_mode": {
    "name": "ipython",
    "version": 3
   },
   "file_extension": ".py",
   "mimetype": "text/x-python",
   "name": "python",
   "nbconvert_exporter": "python",
   "pygments_lexer": "ipython3",
   "version": "3.7.6"
  }
 },
 "nbformat": 4,
 "nbformat_minor": 4
}
