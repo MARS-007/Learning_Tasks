{
 "cells": [
  {
   "cell_type": "markdown",
   "metadata": {},
   "source": [
    "# CheckIO Part_1 Elementary"
   ]
  },
  {
   "cell_type": "markdown",
   "metadata": {},
   "source": [
    "## Multiply (Intro)\n",
    "Write a function that will receive 2 numbers as input and it should return the multiplication of these 2 numbers."
   ]
  },
  {
   "cell_type": "code",
   "execution_count": null,
   "metadata": {},
   "outputs": [],
   "source": [
    "def mult_two(a: int, b: int) -> int:\n",
    "    return a*b\n",
    "\n",
    "print(mult_two(6, 2))"
   ]
  },
  {
   "cell_type": "markdown",
   "metadata": {},
   "source": [
    "## Easy Unpack\n",
    "Mission is to create a function that gets a tuple and returns a tuple with 3 elements - the first, third and second element from the last for the given array."
   ]
  },
  {
   "cell_type": "code",
   "execution_count": null,
   "metadata": {},
   "outputs": [],
   "source": [
    "def easy_unpack(elements: tuple) -> tuple:\n",
    "    el_1 = elements[0]\n",
    "    el_2 = elements[2]\n",
    "    el_3 = elements[-2]\n",
    "    out = (el_1, el_2, el_3)\n",
    "    return (out)\n",
    "\n",
    "print(easy_unpack((1, 2, 3, 4, 5, 6, 7, 9)))"
   ]
  },
  {
   "cell_type": "markdown",
   "metadata": {},
   "source": [
    "## First Word (simplified)\n",
    "You are given a string and you have to find its first word.\n",
    "This is a simplified version of the First Word mission, which can be solved later.\n",
    "- The input string consists of only English letters and spaces.\n",
    "- There aren’t any spaces at the beginning and the end of the string."
   ]
  },
  {
   "cell_type": "code",
   "execution_count": null,
   "metadata": {},
   "outputs": [],
   "source": [
    "def first_word(text: str) -> str:\n",
    "    sep = text.split()\n",
    "    return sep[0]\n",
    "\n",
    "print(first_word(\"Hello world\"))"
   ]
  },
  {
   "cell_type": "markdown",
   "metadata": {},
   "source": [
    "## Acceptable Password I\n",
    "In this mission, you need to create a password verification function.\n",
    "\n",
    "The verification condition is:\n",
    "- the length should be bigger than 6."
   ]
  },
  {
   "cell_type": "code",
   "execution_count": null,
   "metadata": {},
   "outputs": [],
   "source": [
    "def is_acceptable_password(password: str) -> bool:\n",
    "    if len(password) <= 6:\n",
    "        x = False\n",
    "    else:\n",
    "        x = True\n",
    "    return x\n",
    "    #return False if len(password) <= 6 else True \n",
    "    \n",
    "print(is_acceptable_password('short'))"
   ]
  },
  {
   "cell_type": "markdown",
   "metadata": {},
   "source": [
    "## Number Length\n",
    "You have a positive integer. Try to find out how many digits it has?"
   ]
  },
  {
   "cell_type": "code",
   "execution_count": null,
   "metadata": {},
   "outputs": [],
   "source": [
    "def number_length(a: int) -> int:\n",
    "    val = str(a)\n",
    "    return len(val)\n",
    "\n",
    "print(number_length(1150))"
   ]
  },
  {
   "cell_type": "markdown",
   "metadata": {},
   "source": [
    "## End Zeros\n",
    "Try to find out how many zeros a given number has at the end."
   ]
  },
  {
   "cell_type": "code",
   "execution_count": null,
   "metadata": {},
   "outputs": [],
   "source": [
    "def end_zeros(num: int) -> int:\n",
    "    result = 0\n",
    "    x = 0\n",
    "    if num == 0:\n",
    "        result = 1\n",
    "    else:\n",
    "        while x == 0:\n",
    "            if num % 10 == 0:\n",
    "                num /= 10\n",
    "                x = num %10\n",
    "                result += 1\n",
    "            else:\n",
    "                result = 0\n",
    "                x = 1\n",
    "    return result\n",
    "\n",
    "print(end_zeros(152542400001000))"
   ]
  },
  {
   "cell_type": "markdown",
   "metadata": {},
   "source": [
    "## Backward String\n",
    "You should return a given string in reverse order."
   ]
  },
  {
   "cell_type": "code",
   "execution_count": null,
   "metadata": {},
   "outputs": [],
   "source": [
    "def backward_string(val: str) -> str:\n",
    "    revers = str('')\n",
    "    for i in range(1, len(val) + 1):\n",
    "        revers += val[-i]\n",
    "    return revers\n",
    "    #return val[::-1]\n",
    "    \n",
    "print(backward_string('value'))"
   ]
  },
  {
   "cell_type": "markdown",
   "metadata": {},
   "source": [
    "## Remove All Before\n",
    "Not all of the elements are important. What you need to do here is to remove from the list all of the elements before the given one.\n",
    "\n",
    "For the illustration we have a list [1, 2, 3, 4, 5] and we need to remove all elements that go before 3 - which is 1 and 2.\n",
    "\n",
    "We have two edge cases here: (1) if a cutting element cannot be found, then the list shoudn't be changed. (2) if the list is empty, then it should remain empty."
   ]
  },
  {
   "cell_type": "code",
   "execution_count": null,
   "metadata": {},
   "outputs": [],
   "source": [
    "from typing import Iterable\n",
    "\n",
    "def remove_all_before(items: list, border: int) -> Iterable:\n",
    "    if items == []:\n",
    "        out = []\n",
    "    elif (border in items) == False:\n",
    "        out = items\n",
    "    else:\n",
    "        out = items\n",
    "        del out[0:items.index(border)]\n",
    "    return out\n",
    "\n",
    "print(list(remove_all_before([1, 2, 3, 4, 5], 3)))"
   ]
  },
  {
   "cell_type": "markdown",
   "metadata": {},
   "source": [
    "## All Upper I\n",
    "Check if a given string has all symbols in upper case. If the string is empty or doesn't have any letter in it - function should return True."
   ]
  },
  {
   "cell_type": "code",
   "execution_count": null,
   "metadata": {},
   "outputs": [],
   "source": [
    "def is_all_upper(text: str) -> bool:\n",
    "    result = True\n",
    "    for i in range(0, len(text)):\n",
    "        if (text[i] == ' ' and text[i - 1]) or (text[i] in '1234567890') or text.isupper() or text == '':\n",
    "            result = True\n",
    "        else:\n",
    "            result = False\n",
    "    return result\n",
    "\n",
    "print(is_all_upper(\"  n b\"))"
   ]
  },
  {
   "cell_type": "markdown",
   "metadata": {},
   "source": [
    "## Replace First\n",
    "In a given list the first element should become the last one. An empty list or list with only one element should stay the same."
   ]
  },
  {
   "cell_type": "code",
   "execution_count": null,
   "metadata": {},
   "outputs": [],
   "source": [
    "from typing import Iterable\n",
    "\n",
    "def replace_first(items: list) -> Iterable:\n",
    "    if len(items) > 1:\n",
    "        items.append(items[0])\n",
    "        del items[0]\n",
    "    return items\n",
    "\n",
    "print(list(replace_first([1, 2, 3, 4])))"
   ]
  },
  {
   "cell_type": "markdown",
   "metadata": {},
   "source": [
    "## Max Digit\n",
    "You have a number and you need to determine which digit in this number is the biggest."
   ]
  },
  {
   "cell_type": "code",
   "execution_count": null,
   "metadata": {},
   "outputs": [],
   "source": [
    "def max_digit(number: int) -> int:\n",
    "    max = str(number)[0]\n",
    "    for i in range(0, len(str(number))):\n",
    "        if max < str(number)[i]:\n",
    "            max = str(number)[i]\n",
    "    return int(max)\n",
    "\n",
    "print(max_digit(634))"
   ]
  },
  {
   "cell_type": "markdown",
   "metadata": {},
   "source": [
    "## Split Pairs\n",
    "Split the string into pairs of two characters. If the string contains an odd number of characters, then the missing second character of the final pair should be replaced with an underscore ('_')."
   ]
  },
  {
   "cell_type": "code",
   "execution_count": null,
   "metadata": {},
   "outputs": [],
   "source": [
    "def split_pairs(a):\n",
    "    if len(a)%2 == 1:\n",
    "        a += '_'\n",
    "    out = []    \n",
    "    for i in range(0, int(len(a)/2)):\n",
    "        out.append(a[i*2] + a[i*2 +1])\n",
    "    return out\n",
    "\n",
    "print(list(split_pairs('abcdl')))"
   ]
  },
  {
   "cell_type": "markdown",
   "metadata": {},
   "source": [
    "## Beginning Zeros\n",
    "You have a string that consist only of digits. You need to find how many zero digits (\"0\") are at the beginning of the given string."
   ]
  },
  {
   "cell_type": "code",
   "execution_count": null,
   "metadata": {},
   "outputs": [],
   "source": [
    "def beginning_zeros(number: str) -> int:\n",
    "    out = 0\n",
    "    if (number[0] != '0') or (number[0] == ''): \n",
    "        return out\n",
    "    for i in range(len(number)):\n",
    "        if number[i] == '0':\n",
    "            out += 1 \n",
    "        else:\n",
    "            return out\n",
    "    return out\n",
    "\n",
    "print(beginning_zeros('000'))"
   ]
  },
  {
   "cell_type": "markdown",
   "metadata": {},
   "source": [
    "## Nearest Value\n",
    "Find the nearest value to the given one.\n",
    "You are given a list of values as set form and a value for which you need to find the nearest one.\n",
    "\n",
    "A few clarifications:\n",
    "- If 2 numbers are at the same distance, you need to choose the smallest one;\n",
    "- The set of numbers is always non-empty, i.e. the size is >=1;\n",
    "- The given value can be in this set, which means that it’s the answer;\n",
    "- The set can contain both positive and negative numbers, but they are always integers;\n",
    "- The set isn’t sorted and consists of unique numbers."
   ]
  },
  {
   "cell_type": "code",
   "execution_count": null,
   "metadata": {},
   "outputs": [],
   "source": [
    "def nearest_value(values: set, one: int) -> int:\n",
    "    list_v = [n for n in values]\n",
    "    return min(list_v, key = lambda x: abs(one - x) if x >= 0 else (x - one))\n",
    "\n",
    "print(nearest_value({4, 7, 10, 11, 12, 17}, 9))"
   ]
  },
  {
   "cell_type": "markdown",
   "metadata": {},
   "source": [
    "## Between Markers (simplified)\n",
    "You are given a string and two markers (the initial one and final). You have to find a substring enclosed between these two markers. But there are a few important conditions.\n",
    "- The initial and final markers are always different.\n",
    "- The initial and final markers are always 1 char size.\n",
    "- The initial and final markers always exist in a string and go one after another."
   ]
  },
  {
   "cell_type": "code",
   "execution_count": null,
   "metadata": {},
   "outputs": [],
   "source": [
    "def between_markers(text: str, begin: str, end: str) -> str:\n",
    "    return text[(text.find(begin)+1):(text.find(end))]\n",
    "\n",
    "print(between_markers('What is >apple<', '>', '<'))"
   ]
  },
  {
   "cell_type": "markdown",
   "metadata": {},
   "source": [
    "## Correct Sentence\n",
    "For the input of your function, you will be given one sentence. You have to return a corrected version, that starts with a capital letter and ends with a period (dot).\n",
    "\n",
    "Pay attention to the fact that not all of the fixes are necessary. If a sentence already ends with a period (dot), then adding another one will be a mistake."
   ]
  },
  {
   "cell_type": "code",
   "execution_count": null,
   "metadata": {},
   "outputs": [],
   "source": [
    "def correct_sentence(text: str) -> str:\n",
    "    list__txt = [n for n in text]\n",
    "    if list__txt[0].islower():\n",
    "        list__txt[0] = list__txt[0].upper()\n",
    "    if list__txt[-1] != '.':\n",
    "        list__txt.append('.')\n",
    "    text = ''\n",
    "    for n in list__txt:\n",
    "        text += n\n",
    "    return text\n",
    "\n",
    "print(correct_sentence(\"greetings, friends\"))"
   ]
  },
  {
   "cell_type": "markdown",
   "metadata": {},
   "source": [
    "## Is Even\n",
    "Check if the given number is even or not. Your function should return True if the number is even, and False if the number is odd."
   ]
  },
  {
   "cell_type": "code",
   "execution_count": null,
   "metadata": {},
   "outputs": [],
   "source": [
    "def is_even(num: int) -> bool:\n",
    "    return(True if num%2==0 else False)\n",
    "\n",
    "print(is_even(3))"
   ]
  }
 ],
 "metadata": {
  "kernelspec": {
   "display_name": "Python 3",
   "language": "python",
   "name": "python3"
  },
  "language_info": {
   "codemirror_mode": {
    "name": "ipython",
    "version": 3
   },
   "file_extension": ".py",
   "mimetype": "text/x-python",
   "name": "python",
   "nbconvert_exporter": "python",
   "pygments_lexer": "ipython3",
   "version": "3.7.6"
  }
 },
 "nbformat": 4,
 "nbformat_minor": 4
}
